{
 "cells": [
  {
   "cell_type": "code",
   "execution_count": 78,
   "metadata": {},
   "outputs": [],
   "source": [
    "import pandas as pd\n",
    "import numpy as np\n",
    "import os\n",
    "import shutil\n",
    "import plotly.express as px\n",
    "import plotly.graph_objects as go\n",
    "import importlib\n",
    "import performance_shr\n",
    "importlib.reload(performance_shr)\n",
    "from performance_shr import convert_to_float"
   ]
  },
  {
   "cell_type": "code",
   "execution_count": 79,
   "metadata": {},
   "outputs": [],
   "source": [
    "file_dir = 'D:/Astro/Images/2024-12-12/NGC 3372/LIGHTS'\n",
    "file_name = 'ImageMetaData.csv'\n",
    "file_path = os.path.join(file_dir, file_name)\n",
    "converters_dict = {\n",
    "    'FilePath': str,   \n",
    "    'Gain': convert_to_float,   \n",
    "    'DetectedStars': convert_to_float,   \n",
    "    'HFR': convert_to_float,  \n",
    "    'HFRStDev': convert_to_float,  \n",
    "    'FWHM': convert_to_float,  \n",
    "    'Eccentricity': convert_to_float,  \n",
    "    'FocuserPosition': convert_to_float,  \n",
    "    'Airmass': convert_to_float,  \n",
    "    'MountRA': convert_to_float,  \n",
    "    'MountDec': convert_to_float,  \n",
    "    }"
   ]
  },
  {
   "cell_type": "code",
   "execution_count": 80,
   "metadata": {},
   "outputs": [],
   "source": [
    "data = pd.read_csv(file_path, converters=converters_dict)\n",
    "data['FileName'] = data['FilePath'].apply(lambda x: os.path.basename(x))"
   ]
  },
  {
   "cell_type": "code",
   "execution_count": 81,
   "metadata": {},
   "outputs": [],
   "source": [
    "def filter_percentiles(df, col='HFR', top=0.05, bottom=0.05, zero=True):\n",
    "    top_threshold = df[col].quantile(1 - top) if top else False\n",
    "    bottom_threshold = df[col].quantile(bottom) if bottom else False\n",
    "    is_na = df[col].isna()\n",
    "    is_false = is_na != is_na\n",
    "    is_zero = df[col] == 0 if zero else is_false\n",
    "    is_top = df[col] >= top_threshold if top_threshold else is_false\n",
    "    is_bottom = df[col] <= bottom_threshold if bottom_threshold else is_false\n",
    "    is_filtered = is_zero | is_na | is_top | is_bottom\n",
    "    print(f'{col}: TopThreshold={top_threshold:.3f} n({is_top.sum()}), BottomThreshold={bottom_threshold:.3f} n({is_bottom.sum()}), na=n({is_na.sum()}), zero=n({is_zero.sum()}), filtered=n({is_filtered.sum()})')\n",
    "    return is_filtered"
   ]
  },
  {
   "cell_type": "code",
   "execution_count": 88,
   "metadata": {},
   "outputs": [
    {
     "name": "stdout",
     "output_type": "stream",
     "text": [
      "**** Rejecting Images based on top and bottom percentiles for HFR, FWHM, Eccentricity and #Stars Dectected ****\n",
      "HFR: TopThreshold=2.907 n(37), BottomThreshold=0.000 n(0), na=n(0), zero=n(14), filtered=n(51)\n",
      "HFRStDev: TopThreshold=0.276 n(37), BottomThreshold=0.000 n(0), na=n(0), zero=n(14), filtered=n(51)\n",
      "FWHM: TopThreshold=6.990 n(36), BottomThreshold=0.000 n(0), na=n(32), zero=n(0), filtered=n(68)\n",
      "Eccentricity: TopThreshold=0.705 n(36), BottomThreshold=0.262 n(36), na=n(32), zero=n(0), filtered=n(104)\n",
      "DetectedStars: TopThreshold=0.000 n(0), BottomThreshold=53.000 n(38), na=n(0), zero=n(11), filtered=n(38)\n",
      "Total Rejected: n(133)\n"
     ]
    }
   ],
   "source": [
    "print(f'**** Rejecting Images based on top and bottom percentiles for HFR, FWHM, Eccentricity and #Stars Dectected ****')\n",
    "is_badHFR = filter_percentiles(data, col='HFR', bottom=False)\n",
    "is_badHFRStDev = filter_percentiles(data, col='HFRStDev', bottom=False)\n",
    "is_badFWHM = filter_percentiles(data, col='FWHM', bottom=False)\n",
    "is_badEccentricity = filter_percentiles(data, col='Eccentricity')\n",
    "is_badDetectedStars = filter_percentiles(data, col='DetectedStars', top=False)\n",
    "is_rejected = is_badFWHM | is_badHFR | is_badFWHM | is_badHFRStDev | is_badEccentricity | is_badDetectedStars\n",
    "print(f'Total Rejected: n({is_rejected.sum()})')\n"
   ]
  },
  {
   "cell_type": "code",
   "execution_count": 89,
   "metadata": {},
   "outputs": [],
   "source": [
    "# Create the 'rejected' directory at the same level as file_dir if it doesn't exist \n",
    "parent_dir = os.path.dirname(file_dir) \n",
    "rejected_dir = os.path.join(parent_dir, 'Rejected') \n",
    "os.makedirs(rejected_dir, exist_ok=True)"
   ]
  },
  {
   "cell_type": "code",
   "execution_count": 90,
   "metadata": {},
   "outputs": [
    {
     "name": "stdout",
     "output_type": "stream",
     "text": [
      "File moving complete.\n"
     ]
    }
   ],
   "source": [
    "rejects = data[is_rejected].FileName\n",
    "for filename in rejects:\n",
    "    src_path = os.path.join(file_dir, filename)\n",
    "    dest_path = os.path.join(rejected_dir, filename)\n",
    "    if os.path.exists(src_path): \n",
    "        shutil.move(src_path, dest_path) \n",
    "        print(f'Moved: {filename}')\n",
    "\n",
    "print('File moving complete.')"
   ]
  }
 ],
 "metadata": {
  "kernelspec": {
   "display_name": "Python 3",
   "language": "python",
   "name": "python3"
  },
  "language_info": {
   "codemirror_mode": {
    "name": "ipython",
    "version": 3
   },
   "file_extension": ".py",
   "mimetype": "text/x-python",
   "name": "python",
   "nbconvert_exporter": "python",
   "pygments_lexer": "ipython3",
   "version": "3.12.8"
  }
 },
 "nbformat": 4,
 "nbformat_minor": 2
}
